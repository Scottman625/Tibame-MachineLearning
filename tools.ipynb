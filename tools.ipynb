{
  "nbformat": 4,
  "nbformat_minor": 0,
  "metadata": {
    "colab": {
      "name": "tools.ipynb",
      "provenance": [],
      "authorship_tag": "ABX9TyNzYzWpsFNr21p6Z4U5tn+k",
      "include_colab_link": true
    },
    "kernelspec": {
      "name": "python3",
      "display_name": "Python 3"
    },
    "language_info": {
      "name": "python"
    }
  },
  "cells": [
    {
      "cell_type": "markdown",
      "metadata": {
        "id": "view-in-github",
        "colab_type": "text"
      },
      "source": [
        "<a href=\"https://colab.research.google.com/github/Scottman625/ml1206/blob/main/tools.ipynb\" target=\"_parent\"><img src=\"https://colab.research.google.com/assets/colab-badge.svg\" alt=\"Open In Colab\"/></a>"
      ]
    },
    {
      "cell_type": "code",
      "execution_count": null,
      "metadata": {
        "colab": {
          "base_uri": "https://localhost:8080/"
        },
        "id": "W--AsyqHB7i3",
        "outputId": "c101b5e9-27c9-4972-ce12-853b39a5b496"
      },
      "outputs": [
        {
          "output_type": "stream",
          "name": "stdout",
          "text": [
            "Collecting opencc-python-reimplemented\n",
            "  Downloading opencc-python-reimplemented-0.1.6.tar.gz (484 kB)\n",
            "\u001b[?25l\r\u001b[K     |▊                               | 10 kB 22.0 MB/s eta 0:00:01\r\u001b[K     |█▍                              | 20 kB 26.1 MB/s eta 0:00:01\r\u001b[K     |██                              | 30 kB 25.6 MB/s eta 0:00:01\r\u001b[K     |██▊                             | 40 kB 19.2 MB/s eta 0:00:01\r\u001b[K     |███▍                            | 51 kB 8.6 MB/s eta 0:00:01\r\u001b[K     |████                            | 61 kB 9.9 MB/s eta 0:00:01\r\u001b[K     |████▊                           | 71 kB 9.4 MB/s eta 0:00:01\r\u001b[K     |█████▍                          | 81 kB 10.3 MB/s eta 0:00:01\r\u001b[K     |██████                          | 92 kB 7.7 MB/s eta 0:00:01\r\u001b[K     |██████▊                         | 102 kB 8.3 MB/s eta 0:00:01\r\u001b[K     |███████▍                        | 112 kB 8.3 MB/s eta 0:00:01\r\u001b[K     |████████▏                       | 122 kB 8.3 MB/s eta 0:00:01\r\u001b[K     |████████▉                       | 133 kB 8.3 MB/s eta 0:00:01\r\u001b[K     |█████████▌                      | 143 kB 8.3 MB/s eta 0:00:01\r\u001b[K     |██████████▏                     | 153 kB 8.3 MB/s eta 0:00:01\r\u001b[K     |██████████▉                     | 163 kB 8.3 MB/s eta 0:00:01\r\u001b[K     |███████████▌                    | 174 kB 8.3 MB/s eta 0:00:01\r\u001b[K     |████████████▏                   | 184 kB 8.3 MB/s eta 0:00:01\r\u001b[K     |████████████▉                   | 194 kB 8.3 MB/s eta 0:00:01\r\u001b[K     |█████████████▌                  | 204 kB 8.3 MB/s eta 0:00:01\r\u001b[K     |██████████████▏                 | 215 kB 8.3 MB/s eta 0:00:01\r\u001b[K     |██████████████▉                 | 225 kB 8.3 MB/s eta 0:00:01\r\u001b[K     |███████████████▌                | 235 kB 8.3 MB/s eta 0:00:01\r\u001b[K     |████████████████▎               | 245 kB 8.3 MB/s eta 0:00:01\r\u001b[K     |█████████████████               | 256 kB 8.3 MB/s eta 0:00:01\r\u001b[K     |█████████████████▋              | 266 kB 8.3 MB/s eta 0:00:01\r\u001b[K     |██████████████████▎             | 276 kB 8.3 MB/s eta 0:00:01\r\u001b[K     |███████████████████             | 286 kB 8.3 MB/s eta 0:00:01\r\u001b[K     |███████████████████▋            | 296 kB 8.3 MB/s eta 0:00:01\r\u001b[K     |████████████████████▎           | 307 kB 8.3 MB/s eta 0:00:01\r\u001b[K     |█████████████████████           | 317 kB 8.3 MB/s eta 0:00:01\r\u001b[K     |█████████████████████▋          | 327 kB 8.3 MB/s eta 0:00:01\r\u001b[K     |██████████████████████▎         | 337 kB 8.3 MB/s eta 0:00:01\r\u001b[K     |███████████████████████         | 348 kB 8.3 MB/s eta 0:00:01\r\u001b[K     |███████████████████████▊        | 358 kB 8.3 MB/s eta 0:00:01\r\u001b[K     |████████████████████████▍       | 368 kB 8.3 MB/s eta 0:00:01\r\u001b[K     |█████████████████████████       | 378 kB 8.3 MB/s eta 0:00:01\r\u001b[K     |█████████████████████████▊      | 389 kB 8.3 MB/s eta 0:00:01\r\u001b[K     |██████████████████████████▍     | 399 kB 8.3 MB/s eta 0:00:01\r\u001b[K     |███████████████████████████     | 409 kB 8.3 MB/s eta 0:00:01\r\u001b[K     |███████████████████████████▊    | 419 kB 8.3 MB/s eta 0:00:01\r\u001b[K     |████████████████████████████▍   | 430 kB 8.3 MB/s eta 0:00:01\r\u001b[K     |█████████████████████████████   | 440 kB 8.3 MB/s eta 0:00:01\r\u001b[K     |█████████████████████████████▊  | 450 kB 8.3 MB/s eta 0:00:01\r\u001b[K     |██████████████████████████████▍ | 460 kB 8.3 MB/s eta 0:00:01\r\u001b[K     |███████████████████████████████ | 471 kB 8.3 MB/s eta 0:00:01\r\u001b[K     |███████████████████████████████▉| 481 kB 8.3 MB/s eta 0:00:01\r\u001b[K     |████████████████████████████████| 484 kB 8.3 MB/s \n",
            "\u001b[?25hBuilding wheels for collected packages: opencc-python-reimplemented\n",
            "  Building wheel for opencc-python-reimplemented (setup.py) ... \u001b[?25l\u001b[?25hdone\n",
            "  Created wheel for opencc-python-reimplemented: filename=opencc_python_reimplemented-0.1.6-py2.py3-none-any.whl size=486150 sha256=7101905ba66d37e429c8ee0f3aca80766d11f99487a10f0ffc832effd87ffaa1\n",
            "  Stored in directory: /root/.cache/pip/wheels/4e/e2/60/d062d260be08788bb389521544a8fc173de9a9a78d6a593344\n",
            "Successfully built opencc-python-reimplemented\n",
            "Installing collected packages: opencc-python-reimplemented\n",
            "Successfully installed opencc-python-reimplemented-0.1.6\n"
          ]
        }
      ],
      "source": [
        "!pip install opencc-python-reimplemented"
      ]
    },
    {
      "cell_type": "code",
      "source": [
        "from opencc import OpenCC\n",
        "cc = OpenCC('s2tw')  \n",
        "with open(\"test.txt\", \"r\", encoding=\"utf-8\") as f:\n",
        "    to_convert = f.read()\n",
        "converted = cc.convert(to_convert)\n",
        "converted"
      ],
      "metadata": {
        "colab": {
          "base_uri": "https://localhost:8080/",
          "height": 237
        },
        "id": "DtU9_phyD_G4",
        "outputId": "ffb85358-e80b-4860-c9b6-debbc3af5d13"
      },
      "execution_count": null,
      "outputs": [
        {
          "output_type": "error",
          "ename": "FileNotFoundError",
          "evalue": "ignored",
          "traceback": [
            "\u001b[0;31m---------------------------------------------------------------------------\u001b[0m",
            "\u001b[0;31mFileNotFoundError\u001b[0m                         Traceback (most recent call last)",
            "\u001b[0;32m<ipython-input-10-07b0a730dc95>\u001b[0m in \u001b[0;36m<module>\u001b[0;34m()\u001b[0m\n\u001b[1;32m      1\u001b[0m \u001b[0;32mfrom\u001b[0m \u001b[0mopencc\u001b[0m \u001b[0;32mimport\u001b[0m \u001b[0mOpenCC\u001b[0m\u001b[0;34m\u001b[0m\u001b[0;34m\u001b[0m\u001b[0m\n\u001b[1;32m      2\u001b[0m \u001b[0mcc\u001b[0m \u001b[0;34m=\u001b[0m \u001b[0mOpenCC\u001b[0m\u001b[0;34m(\u001b[0m\u001b[0;34m's2tw'\u001b[0m\u001b[0;34m)\u001b[0m\u001b[0;34m\u001b[0m\u001b[0;34m\u001b[0m\u001b[0m\n\u001b[0;32m----> 3\u001b[0;31m \u001b[0;32mwith\u001b[0m \u001b[0mopen\u001b[0m\u001b[0;34m(\u001b[0m\u001b[0;34m\"test.txt\"\u001b[0m\u001b[0;34m,\u001b[0m \u001b[0;34m\"r\"\u001b[0m\u001b[0;34m,\u001b[0m \u001b[0mencoding\u001b[0m\u001b[0;34m=\u001b[0m\u001b[0;34m\"utf-8\"\u001b[0m\u001b[0;34m)\u001b[0m \u001b[0;32mas\u001b[0m \u001b[0mf\u001b[0m\u001b[0;34m:\u001b[0m\u001b[0;34m\u001b[0m\u001b[0;34m\u001b[0m\u001b[0m\n\u001b[0m\u001b[1;32m      4\u001b[0m     \u001b[0mto_convert\u001b[0m \u001b[0;34m=\u001b[0m \u001b[0mf\u001b[0m\u001b[0;34m.\u001b[0m\u001b[0mread\u001b[0m\u001b[0;34m(\u001b[0m\u001b[0;34m)\u001b[0m\u001b[0;34m\u001b[0m\u001b[0;34m\u001b[0m\u001b[0m\n\u001b[1;32m      5\u001b[0m \u001b[0mconverted\u001b[0m \u001b[0;34m=\u001b[0m \u001b[0mcc\u001b[0m\u001b[0;34m.\u001b[0m\u001b[0mconvert\u001b[0m\u001b[0;34m(\u001b[0m\u001b[0mto_convert\u001b[0m\u001b[0;34m)\u001b[0m\u001b[0;34m\u001b[0m\u001b[0;34m\u001b[0m\u001b[0m\n",
            "\u001b[0;31mFileNotFoundError\u001b[0m: [Errno 2] No such file or directory: 'test.txt'"
          ]
        }
      ]
    },
    {
      "cell_type": "code",
      "source": [
        "news = \"\"\"林秉樞施暴民進黨立委高嘉瑜案，被挖出藏在背後的是綠營網軍產業疑雲，民進黨前發言人顏若芳7日卻在臉書發文稱「政府從未養網軍也不可能養網軍」，但網友就貼出過去副總統賴清德對總統蔡英文喊話的內容，希望網軍停止不實的抹黑，反問「你的意思是副總統造謠嗎？」\n",
        "\n",
        "\n",
        "林秉樞施暴案被揪出後，許多人懷疑林秉樞是綠營網軍，甚至可能是網軍頭，台北市長柯文哲日前就表示「執政者、有權力的人怎麼節制自己的權利」，並號召民眾「一人一信」，希望行政院長蘇貞昌嚴查網軍。\n",
        "\n",
        "顏若芳為此在臉書發文回擊，稱「政府從未養網軍也不可能養網軍」，認為柯文哲說別人之前應該要先看看自己，並提到過去柯文哲就被爆料與網軍開會，讓網軍一起參與決策，強調「『養網軍』這件事就跟政府預算一樣攤在陽光下。要說別人之前，請先自身開始檢視。從自身開始做起才是有邏輯的SOP」。\"\"\"\n"
      ],
      "metadata": {
        "id": "AKW3NtI2mruK"
      },
      "execution_count": null,
      "outputs": []
    },
    {
      "cell_type": "code",
      "source": [
        "import jieba\n",
        "from urllib.request import urlretrieve\n",
        "url = \"https://github.com/fxsjy/jieba/raw/master/extra_dict/dict.txt.big\"\n",
        "urlretrieve(url, \"dict.txt.big\")\n",
        "jieba.set_dictionary(\"dict.txt.big\")\n",
        "jieba.load_userdict(\"politics.txt\")\n",
        "\" \".join(jieba.cut(news))"
      ],
      "metadata": {
        "colab": {
          "base_uri": "https://localhost:8080/",
          "height": 410
        },
        "id": "aP-oGFIQmQ_o",
        "outputId": "58f2aa43-3a53-4179-a52e-ce50a6f349eb"
      },
      "execution_count": null,
      "outputs": [
        {
          "output_type": "stream",
          "name": "stderr",
          "text": [
            "Building prefix dict from /content/dict.txt.big ...\n",
            "Dumping model to file cache /tmp/jieba.u501edca284da514cb68b53a20324f4e3.cache\n",
            "Loading model cost 1.795 seconds.\n",
            "Prefix dict has been built successfully.\n"
          ]
        },
        {
          "output_type": "error",
          "ename": "FileNotFoundError",
          "evalue": "ignored",
          "traceback": [
            "\u001b[0;31m---------------------------------------------------------------------------\u001b[0m",
            "\u001b[0;31mFileNotFoundError\u001b[0m                         Traceback (most recent call last)",
            "\u001b[0;32m<ipython-input-12-41f48b52d7d7>\u001b[0m in \u001b[0;36m<module>\u001b[0;34m()\u001b[0m\n\u001b[1;32m      4\u001b[0m \u001b[0murlretrieve\u001b[0m\u001b[0;34m(\u001b[0m\u001b[0murl\u001b[0m\u001b[0;34m,\u001b[0m \u001b[0;34m\"dict.txt.big\"\u001b[0m\u001b[0;34m)\u001b[0m\u001b[0;34m\u001b[0m\u001b[0;34m\u001b[0m\u001b[0m\n\u001b[1;32m      5\u001b[0m \u001b[0mjieba\u001b[0m\u001b[0;34m.\u001b[0m\u001b[0mset_dictionary\u001b[0m\u001b[0;34m(\u001b[0m\u001b[0;34m\"dict.txt.big\"\u001b[0m\u001b[0;34m)\u001b[0m\u001b[0;34m\u001b[0m\u001b[0;34m\u001b[0m\u001b[0m\n\u001b[0;32m----> 6\u001b[0;31m \u001b[0mjieba\u001b[0m\u001b[0;34m.\u001b[0m\u001b[0mload_userdict\u001b[0m\u001b[0;34m(\u001b[0m\u001b[0;34m\"politics.txt\"\u001b[0m\u001b[0;34m)\u001b[0m\u001b[0;34m\u001b[0m\u001b[0;34m\u001b[0m\u001b[0m\n\u001b[0m\u001b[1;32m      7\u001b[0m \u001b[0;34m\" \"\u001b[0m\u001b[0;34m.\u001b[0m\u001b[0mjoin\u001b[0m\u001b[0;34m(\u001b[0m\u001b[0mjieba\u001b[0m\u001b[0;34m.\u001b[0m\u001b[0mcut\u001b[0m\u001b[0;34m(\u001b[0m\u001b[0mnews\u001b[0m\u001b[0;34m)\u001b[0m\u001b[0;34m)\u001b[0m\u001b[0;34m\u001b[0m\u001b[0;34m\u001b[0m\u001b[0m\n",
            "\u001b[0;32m/usr/local/lib/python3.7/dist-packages/jieba/__init__.py\u001b[0m in \u001b[0;36mload_userdict\u001b[0;34m(self, f)\u001b[0m\n\u001b[1;32m    396\u001b[0m         \u001b[0;32mif\u001b[0m \u001b[0misinstance\u001b[0m\u001b[0;34m(\u001b[0m\u001b[0mf\u001b[0m\u001b[0;34m,\u001b[0m \u001b[0mstring_types\u001b[0m\u001b[0;34m)\u001b[0m\u001b[0;34m:\u001b[0m\u001b[0;34m\u001b[0m\u001b[0;34m\u001b[0m\u001b[0m\n\u001b[1;32m    397\u001b[0m             \u001b[0mf_name\u001b[0m \u001b[0;34m=\u001b[0m \u001b[0mf\u001b[0m\u001b[0;34m\u001b[0m\u001b[0;34m\u001b[0m\u001b[0m\n\u001b[0;32m--> 398\u001b[0;31m             \u001b[0mf\u001b[0m \u001b[0;34m=\u001b[0m \u001b[0mopen\u001b[0m\u001b[0;34m(\u001b[0m\u001b[0mf\u001b[0m\u001b[0;34m,\u001b[0m \u001b[0;34m'rb'\u001b[0m\u001b[0;34m)\u001b[0m\u001b[0;34m\u001b[0m\u001b[0;34m\u001b[0m\u001b[0m\n\u001b[0m\u001b[1;32m    399\u001b[0m         \u001b[0;32melse\u001b[0m\u001b[0;34m:\u001b[0m\u001b[0;34m\u001b[0m\u001b[0;34m\u001b[0m\u001b[0m\n\u001b[1;32m    400\u001b[0m             \u001b[0mf_name\u001b[0m \u001b[0;34m=\u001b[0m \u001b[0mresolve_filename\u001b[0m\u001b[0;34m(\u001b[0m\u001b[0mf\u001b[0m\u001b[0;34m)\u001b[0m\u001b[0;34m\u001b[0m\u001b[0;34m\u001b[0m\u001b[0m\n",
            "\u001b[0;31mFileNotFoundError\u001b[0m: [Errno 2] No such file or directory: 'politics.txt'"
          ]
        }
      ]
    },
    {
      "cell_type": "code",
      "source": [
        "import jieba.analyse\n",
        "jieba.analyse.extract_tags(news)\n",
        "jieba.analyse.extract_tags(news, topK=None)\n",
        "jieba.analyse.extract_tags(news, topK=10, withWeight=True)\n",
        "jieba.analyse.extract_tags(news, topK=20, allowPOS=[\"nr\", \"nz\", \"ns\", \"nt\"])"
      ],
      "metadata": {
        "colab": {
          "base_uri": "https://localhost:8080/"
        },
        "id": "HBEsEV4QmkHC",
        "outputId": "ca9a92e5-bd5e-4d63-d99d-1f3cf19af82f"
      },
      "execution_count": null,
      "outputs": [
        {
          "output_type": "execute_result",
          "data": {
            "text/plain": [
              "['柯文', '林秉', '顏若芳', '施暴', '高嘉瑜', '賴清德', '台北', '英文']"
            ]
          },
          "metadata": {},
          "execution_count": 13
        }
      ]
    }
  ]
}